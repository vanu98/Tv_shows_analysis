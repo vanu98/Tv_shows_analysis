{
 "cells": [
  {
   "cell_type": "code",
   "execution_count": 412,
   "metadata": {},
   "outputs": [],
   "source": [
    "import pandas as pd\n",
    "import matplotlib.pyplot as plt\n",
    "import seaborn as sns\n",
    "import numpy as np"
   ]
  },
  {
   "cell_type": "code",
   "execution_count": 413,
   "metadata": {},
   "outputs": [],
   "source": [
    "#import csv file(data)\n",
    "data = pd.read_csv('tv_shows.csv')"
   ]
  },
  {
   "cell_type": "code",
   "execution_count": 414,
   "metadata": {},
   "outputs": [
    {
     "name": "stdout",
     "output_type": "stream",
     "text": [
      "<class 'pandas.core.frame.DataFrame'>\n",
      "RangeIndex: 5611 entries, 0 to 5610\n",
      "Data columns (total 11 columns):\n",
      " #   Column           Non-Null Count  Dtype  \n",
      "---  ------           --------------  -----  \n",
      " 0   Unnamed: 0       5611 non-null   int64  \n",
      " 1   Title            5611 non-null   object \n",
      " 2   Year             5611 non-null   int64  \n",
      " 3   Age              3165 non-null   object \n",
      " 4   IMDb             4450 non-null   float64\n",
      " 5   Rotten Tomatoes  1011 non-null   object \n",
      " 6   Netflix          5611 non-null   int64  \n",
      " 7   Hulu             5611 non-null   int64  \n",
      " 8   Prime Video      5611 non-null   int64  \n",
      " 9   Disney+          5611 non-null   int64  \n",
      " 10  type             5611 non-null   int64  \n",
      "dtypes: float64(1), int64(7), object(3)\n",
      "memory usage: 482.3+ KB\n"
     ]
    }
   ],
   "source": [
    "#informaion regarding the data\n",
    "data.info()"
   ]
  },
  {
   "cell_type": "code",
   "execution_count": 415,
   "metadata": {},
   "outputs": [
    {
     "data": {
      "text/plain": [
       "pandas.core.frame.DataFrame"
      ]
     },
     "execution_count": 415,
     "metadata": {},
     "output_type": "execute_result"
    }
   ],
   "source": [
    "# type\n",
    "type(data)"
   ]
  },
  {
   "cell_type": "code",
   "execution_count": 416,
   "metadata": {},
   "outputs": [
    {
     "data": {
      "text/plain": [
       "(5611, 11)"
      ]
     },
     "execution_count": 416,
     "metadata": {},
     "output_type": "execute_result"
    }
   ],
   "source": [
    "#shape of the Dataset\n",
    "data.shape"
   ]
  },
  {
   "cell_type": "code",
   "execution_count": 417,
   "metadata": {},
   "outputs": [
    {
     "data": {
      "text/html": [
       "<div>\n",
       "<style scoped>\n",
       "    .dataframe tbody tr th:only-of-type {\n",
       "        vertical-align: middle;\n",
       "    }\n",
       "\n",
       "    .dataframe tbody tr th {\n",
       "        vertical-align: top;\n",
       "    }\n",
       "\n",
       "    .dataframe thead th {\n",
       "        text-align: right;\n",
       "    }\n",
       "</style>\n",
       "<table border=\"1\" class=\"dataframe\">\n",
       "  <thead>\n",
       "    <tr style=\"text-align: right;\">\n",
       "      <th></th>\n",
       "      <th>Unnamed: 0</th>\n",
       "      <th>Title</th>\n",
       "      <th>Year</th>\n",
       "      <th>Age</th>\n",
       "      <th>IMDb</th>\n",
       "      <th>Rotten Tomatoes</th>\n",
       "      <th>Netflix</th>\n",
       "      <th>Hulu</th>\n",
       "      <th>Prime Video</th>\n",
       "      <th>Disney+</th>\n",
       "      <th>type</th>\n",
       "    </tr>\n",
       "  </thead>\n",
       "  <tbody>\n",
       "    <tr>\n",
       "      <th>0</th>\n",
       "      <td>0</td>\n",
       "      <td>Breaking Bad</td>\n",
       "      <td>2008</td>\n",
       "      <td>18+</td>\n",
       "      <td>9.5</td>\n",
       "      <td>96%</td>\n",
       "      <td>1</td>\n",
       "      <td>0</td>\n",
       "      <td>0</td>\n",
       "      <td>0</td>\n",
       "      <td>1</td>\n",
       "    </tr>\n",
       "    <tr>\n",
       "      <th>1</th>\n",
       "      <td>1</td>\n",
       "      <td>Stranger Things</td>\n",
       "      <td>2016</td>\n",
       "      <td>16+</td>\n",
       "      <td>8.8</td>\n",
       "      <td>93%</td>\n",
       "      <td>1</td>\n",
       "      <td>0</td>\n",
       "      <td>0</td>\n",
       "      <td>0</td>\n",
       "      <td>1</td>\n",
       "    </tr>\n",
       "    <tr>\n",
       "      <th>2</th>\n",
       "      <td>2</td>\n",
       "      <td>Money Heist</td>\n",
       "      <td>2017</td>\n",
       "      <td>18+</td>\n",
       "      <td>8.4</td>\n",
       "      <td>91%</td>\n",
       "      <td>1</td>\n",
       "      <td>0</td>\n",
       "      <td>0</td>\n",
       "      <td>0</td>\n",
       "      <td>1</td>\n",
       "    </tr>\n",
       "    <tr>\n",
       "      <th>3</th>\n",
       "      <td>3</td>\n",
       "      <td>Sherlock</td>\n",
       "      <td>2010</td>\n",
       "      <td>16+</td>\n",
       "      <td>9.1</td>\n",
       "      <td>78%</td>\n",
       "      <td>1</td>\n",
       "      <td>0</td>\n",
       "      <td>0</td>\n",
       "      <td>0</td>\n",
       "      <td>1</td>\n",
       "    </tr>\n",
       "    <tr>\n",
       "      <th>4</th>\n",
       "      <td>4</td>\n",
       "      <td>Better Call Saul</td>\n",
       "      <td>2015</td>\n",
       "      <td>18+</td>\n",
       "      <td>8.7</td>\n",
       "      <td>97%</td>\n",
       "      <td>1</td>\n",
       "      <td>0</td>\n",
       "      <td>0</td>\n",
       "      <td>0</td>\n",
       "      <td>1</td>\n",
       "    </tr>\n",
       "  </tbody>\n",
       "</table>\n",
       "</div>"
      ],
      "text/plain": [
       "   Unnamed: 0             Title  Year  Age  IMDb Rotten Tomatoes  Netflix  \\\n",
       "0           0      Breaking Bad  2008  18+   9.5             96%        1   \n",
       "1           1   Stranger Things  2016  16+   8.8             93%        1   \n",
       "2           2       Money Heist  2017  18+   8.4             91%        1   \n",
       "3           3          Sherlock  2010  16+   9.1             78%        1   \n",
       "4           4  Better Call Saul  2015  18+   8.7             97%        1   \n",
       "\n",
       "   Hulu  Prime Video  Disney+  type  \n",
       "0     0            0        0     1  \n",
       "1     0            0        0     1  \n",
       "2     0            0        0     1  \n",
       "3     0            0        0     1  \n",
       "4     0            0        0     1  "
      ]
     },
     "execution_count": 417,
     "metadata": {},
     "output_type": "execute_result"
    }
   ],
   "source": [
    "#first 5 rows of the dataset\n",
    "data.head()"
   ]
  },
  {
   "cell_type": "code",
   "execution_count": 418,
   "metadata": {},
   "outputs": [
    {
     "data": {
      "text/html": [
       "<div>\n",
       "<style scoped>\n",
       "    .dataframe tbody tr th:only-of-type {\n",
       "        vertical-align: middle;\n",
       "    }\n",
       "\n",
       "    .dataframe tbody tr th {\n",
       "        vertical-align: top;\n",
       "    }\n",
       "\n",
       "    .dataframe thead th {\n",
       "        text-align: right;\n",
       "    }\n",
       "</style>\n",
       "<table border=\"1\" class=\"dataframe\">\n",
       "  <thead>\n",
       "    <tr style=\"text-align: right;\">\n",
       "      <th></th>\n",
       "      <th>Unnamed: 0</th>\n",
       "      <th>Title</th>\n",
       "      <th>Year</th>\n",
       "      <th>Age</th>\n",
       "      <th>IMDb</th>\n",
       "      <th>Rotten Tomatoes</th>\n",
       "      <th>Netflix</th>\n",
       "      <th>Hulu</th>\n",
       "      <th>Prime Video</th>\n",
       "      <th>Disney+</th>\n",
       "      <th>type</th>\n",
       "    </tr>\n",
       "  </thead>\n",
       "  <tbody>\n",
       "    <tr>\n",
       "      <th>5606</th>\n",
       "      <td>5606</td>\n",
       "      <td>Tut's Treasures: Hidden Secrets</td>\n",
       "      <td>2018</td>\n",
       "      <td>NaN</td>\n",
       "      <td>NaN</td>\n",
       "      <td>NaN</td>\n",
       "      <td>0</td>\n",
       "      <td>0</td>\n",
       "      <td>0</td>\n",
       "      <td>1</td>\n",
       "      <td>1</td>\n",
       "    </tr>\n",
       "    <tr>\n",
       "      <th>5607</th>\n",
       "      <td>5607</td>\n",
       "      <td>Paradise Islands</td>\n",
       "      <td>2017</td>\n",
       "      <td>NaN</td>\n",
       "      <td>NaN</td>\n",
       "      <td>NaN</td>\n",
       "      <td>0</td>\n",
       "      <td>0</td>\n",
       "      <td>0</td>\n",
       "      <td>1</td>\n",
       "      <td>1</td>\n",
       "    </tr>\n",
       "    <tr>\n",
       "      <th>5608</th>\n",
       "      <td>5608</td>\n",
       "      <td>Wild Russia</td>\n",
       "      <td>2018</td>\n",
       "      <td>NaN</td>\n",
       "      <td>NaN</td>\n",
       "      <td>NaN</td>\n",
       "      <td>0</td>\n",
       "      <td>0</td>\n",
       "      <td>0</td>\n",
       "      <td>1</td>\n",
       "      <td>1</td>\n",
       "    </tr>\n",
       "    <tr>\n",
       "      <th>5609</th>\n",
       "      <td>5609</td>\n",
       "      <td>Love &amp; Vets</td>\n",
       "      <td>2017</td>\n",
       "      <td>NaN</td>\n",
       "      <td>NaN</td>\n",
       "      <td>NaN</td>\n",
       "      <td>0</td>\n",
       "      <td>0</td>\n",
       "      <td>0</td>\n",
       "      <td>1</td>\n",
       "      <td>1</td>\n",
       "    </tr>\n",
       "    <tr>\n",
       "      <th>5610</th>\n",
       "      <td>5610</td>\n",
       "      <td>United States of Animals</td>\n",
       "      <td>2016</td>\n",
       "      <td>NaN</td>\n",
       "      <td>NaN</td>\n",
       "      <td>NaN</td>\n",
       "      <td>0</td>\n",
       "      <td>0</td>\n",
       "      <td>0</td>\n",
       "      <td>1</td>\n",
       "      <td>1</td>\n",
       "    </tr>\n",
       "  </tbody>\n",
       "</table>\n",
       "</div>"
      ],
      "text/plain": [
       "      Unnamed: 0                            Title  Year  Age  IMDb  \\\n",
       "5606        5606  Tut's Treasures: Hidden Secrets  2018  NaN   NaN   \n",
       "5607        5607                 Paradise Islands  2017  NaN   NaN   \n",
       "5608        5608                      Wild Russia  2018  NaN   NaN   \n",
       "5609        5609                      Love & Vets  2017  NaN   NaN   \n",
       "5610        5610         United States of Animals  2016  NaN   NaN   \n",
       "\n",
       "     Rotten Tomatoes  Netflix  Hulu  Prime Video  Disney+  type  \n",
       "5606             NaN        0     0            0        1     1  \n",
       "5607             NaN        0     0            0        1     1  \n",
       "5608             NaN        0     0            0        1     1  \n",
       "5609             NaN        0     0            0        1     1  \n",
       "5610             NaN        0     0            0        1     1  "
      ]
     },
     "execution_count": 418,
     "metadata": {},
     "output_type": "execute_result"
    }
   ],
   "source": [
    "#Last 5 rows of the dataset\n",
    "data.tail()"
   ]
  },
  {
   "cell_type": "code",
   "execution_count": 419,
   "metadata": {},
   "outputs": [
    {
     "data": {
      "text/plain": [
       "0        Breaking Bad\n",
       "1     Stranger Things\n",
       "2         Money Heist\n",
       "3            Sherlock\n",
       "4    Better Call Saul\n",
       "Name: Title, dtype: object"
      ]
     },
     "execution_count": 419,
     "metadata": {},
     "output_type": "execute_result"
    }
   ],
   "source": [
    "#Title of the first 5 datarows\n",
    "data['Title'].head()"
   ]
  },
  {
   "cell_type": "code",
   "execution_count": 420,
   "metadata": {},
   "outputs": [
    {
     "data": {
      "text/plain": [
       "2"
      ]
     },
     "execution_count": 420,
     "metadata": {},
     "output_type": "execute_result"
    }
   ],
   "source": [
    "#dimension of the object\n",
    "data.ndim"
   ]
  },
  {
   "cell_type": "code",
   "execution_count": 421,
   "metadata": {},
   "outputs": [
    {
     "data": {
      "text/plain": [
       "61721"
      ]
     },
     "execution_count": 421,
     "metadata": {},
     "output_type": "execute_result"
    }
   ],
   "source": [
    "#size of the object\n",
    "data.size"
   ]
  },
  {
   "cell_type": "code",
   "execution_count": 422,
   "metadata": {},
   "outputs": [
    {
     "data": {
      "text/plain": [
       "[RangeIndex(start=0, stop=5611, step=1),\n",
       " Index(['Unnamed: 0', 'Title', 'Year', 'Age', 'IMDb', 'Rotten Tomatoes',\n",
       "        'Netflix', 'Hulu', 'Prime Video', 'Disney+', 'type'],\n",
       "       dtype='object')]"
      ]
     },
     "execution_count": 422,
     "metadata": {},
     "output_type": "execute_result"
    }
   ],
   "source": [
    "#columns/ features of the dataset\n",
    "data.axes"
   ]
  },
  {
   "cell_type": "code",
   "execution_count": 423,
   "metadata": {},
   "outputs": [
    {
     "data": {
      "text/plain": [
       "Index(['Unnamed: 0', 'Title', 'Year', 'Age', 'IMDb', 'Rotten Tomatoes',\n",
       "       'Netflix', 'Hulu', 'Prime Video', 'Disney+', 'type'],\n",
       "      dtype='object')"
      ]
     },
     "execution_count": 423,
     "metadata": {},
     "output_type": "execute_result"
    }
   ],
   "source": [
    "#columns/ features of the dataset\n",
    "data.columns"
   ]
  },
  {
   "cell_type": "code",
   "execution_count": 424,
   "metadata": {},
   "outputs": [
    {
     "data": {
      "text/plain": [
       "Unnamed: 0           int64\n",
       "Title               object\n",
       "Year                 int64\n",
       "Age                 object\n",
       "IMDb               float64\n",
       "Rotten Tomatoes     object\n",
       "Netflix              int64\n",
       "Hulu                 int64\n",
       "Prime Video          int64\n",
       "Disney+              int64\n",
       "type                 int64\n",
       "dtype: object"
      ]
     },
     "execution_count": 424,
     "metadata": {},
     "output_type": "execute_result"
    }
   ],
   "source": [
    "#Datatypes of all the columns\n",
    "data.dtypes"
   ]
  },
  {
   "cell_type": "code",
   "execution_count": 425,
   "metadata": {},
   "outputs": [
    {
     "data": {
      "text/plain": [
       "False"
      ]
     },
     "execution_count": 425,
     "metadata": {},
     "output_type": "execute_result"
    }
   ],
   "source": [
    "#checking the emptyiness of the datset\n",
    "data.empty"
   ]
  },
  {
   "cell_type": "code",
   "execution_count": 426,
   "metadata": {},
   "outputs": [
    {
     "data": {
      "text/plain": [
       "array([0, 'Breaking Bad', 2008, '18+', 9.5, '96%', 1, 0, 0, 0, 1],\n",
       "      dtype=object)"
      ]
     },
     "execution_count": 426,
     "metadata": {},
     "output_type": "execute_result"
    }
   ],
   "source": [
    "#Technique to convert DataFrame to Numpy array\n",
    "dt = data.values\n",
    "dt[0]"
   ]
  },
  {
   "cell_type": "code",
   "execution_count": 427,
   "metadata": {},
   "outputs": [
    {
     "data": {
      "text/plain": [
       "numpy.ndarray"
      ]
     },
     "execution_count": 427,
     "metadata": {},
     "output_type": "execute_result"
    }
   ],
   "source": [
    "type(dt)"
   ]
  },
  {
   "cell_type": "code",
   "execution_count": 428,
   "metadata": {},
   "outputs": [
    {
     "name": "stdout",
     "output_type": "stream",
     "text": [
      "Tv shows on Netflix: 1931 / 5611\n",
      "Tv shows on Hulu: 1754 / 5611\n",
      "Tv shows on Prime Video: 2144 / 5611\n",
      "Tv shows on Disney+: 180 / 5611\n"
     ]
    }
   ],
   "source": [
    "print('Tv shows on Netflix:',data['Netflix'].sum(),'/',data['Netflix'].count())\n",
    "print('Tv shows on Hulu:',data['Hulu'].sum(),'/',data['Hulu'].count())\n",
    "print('Tv shows on Prime Video:',data['Prime Video'].sum(),'/',data['Prime Video'].count())\n",
    "print('Tv shows on Disney+:',data['Disney+'].sum(),'/',data['Disney+'].count())"
   ]
  },
  {
   "cell_type": "code",
   "execution_count": 429,
   "metadata": {},
   "outputs": [
    {
     "data": {
      "text/html": [
       "<div>\n",
       "<style scoped>\n",
       "    .dataframe tbody tr th:only-of-type {\n",
       "        vertical-align: middle;\n",
       "    }\n",
       "\n",
       "    .dataframe tbody tr th {\n",
       "        vertical-align: top;\n",
       "    }\n",
       "\n",
       "    .dataframe thead th {\n",
       "        text-align: right;\n",
       "    }\n",
       "</style>\n",
       "<table border=\"1\" class=\"dataframe\">\n",
       "  <thead>\n",
       "    <tr style=\"text-align: right;\">\n",
       "      <th></th>\n",
       "      <th>Unnamed: 0</th>\n",
       "      <th>Title</th>\n",
       "      <th>Year</th>\n",
       "      <th>Age</th>\n",
       "      <th>IMDb</th>\n",
       "      <th>Rotten Tomatoes</th>\n",
       "      <th>Netflix</th>\n",
       "      <th>Hulu</th>\n",
       "      <th>Prime Video</th>\n",
       "      <th>Disney+</th>\n",
       "      <th>type</th>\n",
       "    </tr>\n",
       "  </thead>\n",
       "  <tbody>\n",
       "    <tr>\n",
       "      <th>count</th>\n",
       "      <td>5611.000000</td>\n",
       "      <td>5611</td>\n",
       "      <td>5611.000000</td>\n",
       "      <td>3165</td>\n",
       "      <td>4450.000000</td>\n",
       "      <td>1011</td>\n",
       "      <td>5611.000000</td>\n",
       "      <td>5611.000000</td>\n",
       "      <td>5611.000000</td>\n",
       "      <td>5611.000000</td>\n",
       "      <td>5611.0</td>\n",
       "    </tr>\n",
       "    <tr>\n",
       "      <th>unique</th>\n",
       "      <td>NaN</td>\n",
       "      <td>5564</td>\n",
       "      <td>NaN</td>\n",
       "      <td>5</td>\n",
       "      <td>NaN</td>\n",
       "      <td>88</td>\n",
       "      <td>NaN</td>\n",
       "      <td>NaN</td>\n",
       "      <td>NaN</td>\n",
       "      <td>NaN</td>\n",
       "      <td>NaN</td>\n",
       "    </tr>\n",
       "    <tr>\n",
       "      <th>top</th>\n",
       "      <td>NaN</td>\n",
       "      <td>Undercover</td>\n",
       "      <td>NaN</td>\n",
       "      <td>16+</td>\n",
       "      <td>NaN</td>\n",
       "      <td>100%</td>\n",
       "      <td>NaN</td>\n",
       "      <td>NaN</td>\n",
       "      <td>NaN</td>\n",
       "      <td>NaN</td>\n",
       "      <td>NaN</td>\n",
       "    </tr>\n",
       "    <tr>\n",
       "      <th>freq</th>\n",
       "      <td>NaN</td>\n",
       "      <td>3</td>\n",
       "      <td>NaN</td>\n",
       "      <td>1018</td>\n",
       "      <td>NaN</td>\n",
       "      <td>109</td>\n",
       "      <td>NaN</td>\n",
       "      <td>NaN</td>\n",
       "      <td>NaN</td>\n",
       "      <td>NaN</td>\n",
       "      <td>NaN</td>\n",
       "    </tr>\n",
       "    <tr>\n",
       "      <th>mean</th>\n",
       "      <td>2805.000000</td>\n",
       "      <td>NaN</td>\n",
       "      <td>2011.021030</td>\n",
       "      <td>NaN</td>\n",
       "      <td>7.113258</td>\n",
       "      <td>NaN</td>\n",
       "      <td>0.344145</td>\n",
       "      <td>0.312600</td>\n",
       "      <td>0.382107</td>\n",
       "      <td>0.032080</td>\n",
       "      <td>1.0</td>\n",
       "    </tr>\n",
       "    <tr>\n",
       "      <th>std</th>\n",
       "      <td>1619.900511</td>\n",
       "      <td>NaN</td>\n",
       "      <td>11.005116</td>\n",
       "      <td>NaN</td>\n",
       "      <td>1.132060</td>\n",
       "      <td>NaN</td>\n",
       "      <td>0.475131</td>\n",
       "      <td>0.463594</td>\n",
       "      <td>0.485946</td>\n",
       "      <td>0.176228</td>\n",
       "      <td>0.0</td>\n",
       "    </tr>\n",
       "    <tr>\n",
       "      <th>min</th>\n",
       "      <td>0.000000</td>\n",
       "      <td>NaN</td>\n",
       "      <td>1901.000000</td>\n",
       "      <td>NaN</td>\n",
       "      <td>1.000000</td>\n",
       "      <td>NaN</td>\n",
       "      <td>0.000000</td>\n",
       "      <td>0.000000</td>\n",
       "      <td>0.000000</td>\n",
       "      <td>0.000000</td>\n",
       "      <td>1.0</td>\n",
       "    </tr>\n",
       "    <tr>\n",
       "      <th>25%</th>\n",
       "      <td>1402.500000</td>\n",
       "      <td>NaN</td>\n",
       "      <td>2010.000000</td>\n",
       "      <td>NaN</td>\n",
       "      <td>6.600000</td>\n",
       "      <td>NaN</td>\n",
       "      <td>0.000000</td>\n",
       "      <td>0.000000</td>\n",
       "      <td>0.000000</td>\n",
       "      <td>0.000000</td>\n",
       "      <td>1.0</td>\n",
       "    </tr>\n",
       "    <tr>\n",
       "      <th>50%</th>\n",
       "      <td>2805.000000</td>\n",
       "      <td>NaN</td>\n",
       "      <td>2015.000000</td>\n",
       "      <td>NaN</td>\n",
       "      <td>7.300000</td>\n",
       "      <td>NaN</td>\n",
       "      <td>0.000000</td>\n",
       "      <td>0.000000</td>\n",
       "      <td>0.000000</td>\n",
       "      <td>0.000000</td>\n",
       "      <td>1.0</td>\n",
       "    </tr>\n",
       "    <tr>\n",
       "      <th>75%</th>\n",
       "      <td>4207.500000</td>\n",
       "      <td>NaN</td>\n",
       "      <td>2017.000000</td>\n",
       "      <td>NaN</td>\n",
       "      <td>7.900000</td>\n",
       "      <td>NaN</td>\n",
       "      <td>1.000000</td>\n",
       "      <td>1.000000</td>\n",
       "      <td>1.000000</td>\n",
       "      <td>0.000000</td>\n",
       "      <td>1.0</td>\n",
       "    </tr>\n",
       "    <tr>\n",
       "      <th>max</th>\n",
       "      <td>5610.000000</td>\n",
       "      <td>NaN</td>\n",
       "      <td>2020.000000</td>\n",
       "      <td>NaN</td>\n",
       "      <td>9.600000</td>\n",
       "      <td>NaN</td>\n",
       "      <td>1.000000</td>\n",
       "      <td>1.000000</td>\n",
       "      <td>1.000000</td>\n",
       "      <td>1.000000</td>\n",
       "      <td>1.0</td>\n",
       "    </tr>\n",
       "  </tbody>\n",
       "</table>\n",
       "</div>"
      ],
      "text/plain": [
       "         Unnamed: 0       Title         Year   Age         IMDb  \\\n",
       "count   5611.000000        5611  5611.000000  3165  4450.000000   \n",
       "unique          NaN        5564          NaN     5          NaN   \n",
       "top             NaN  Undercover          NaN   16+          NaN   \n",
       "freq            NaN           3          NaN  1018          NaN   \n",
       "mean    2805.000000         NaN  2011.021030   NaN     7.113258   \n",
       "std     1619.900511         NaN    11.005116   NaN     1.132060   \n",
       "min        0.000000         NaN  1901.000000   NaN     1.000000   \n",
       "25%     1402.500000         NaN  2010.000000   NaN     6.600000   \n",
       "50%     2805.000000         NaN  2015.000000   NaN     7.300000   \n",
       "75%     4207.500000         NaN  2017.000000   NaN     7.900000   \n",
       "max     5610.000000         NaN  2020.000000   NaN     9.600000   \n",
       "\n",
       "       Rotten Tomatoes      Netflix         Hulu  Prime Video      Disney+  \\\n",
       "count             1011  5611.000000  5611.000000  5611.000000  5611.000000   \n",
       "unique              88          NaN          NaN          NaN          NaN   \n",
       "top               100%          NaN          NaN          NaN          NaN   \n",
       "freq               109          NaN          NaN          NaN          NaN   \n",
       "mean               NaN     0.344145     0.312600     0.382107     0.032080   \n",
       "std                NaN     0.475131     0.463594     0.485946     0.176228   \n",
       "min                NaN     0.000000     0.000000     0.000000     0.000000   \n",
       "25%                NaN     0.000000     0.000000     0.000000     0.000000   \n",
       "50%                NaN     0.000000     0.000000     0.000000     0.000000   \n",
       "75%                NaN     1.000000     1.000000     1.000000     0.000000   \n",
       "max                NaN     1.000000     1.000000     1.000000     1.000000   \n",
       "\n",
       "          type  \n",
       "count   5611.0  \n",
       "unique     NaN  \n",
       "top        NaN  \n",
       "freq       NaN  \n",
       "mean       1.0  \n",
       "std        0.0  \n",
       "min        1.0  \n",
       "25%        1.0  \n",
       "50%        1.0  \n",
       "75%        1.0  \n",
       "max        1.0  "
      ]
     },
     "execution_count": 429,
     "metadata": {},
     "output_type": "execute_result"
    }
   ],
   "source": [
    "#describe the dataset with some basic functionality\n",
    "data.describe(include='all')"
   ]
  },
  {
   "cell_type": "code",
   "execution_count": 430,
   "metadata": {},
   "outputs": [
    {
     "data": {
      "text/plain": [
       "<matplotlib.axes._subplots.AxesSubplot at 0x260c2cac5f8>"
      ]
     },
     "execution_count": 430,
     "metadata": {},
     "output_type": "execute_result"
    },
    {
     "data": {
      "image/png": "[encoded data removed]",
      "text/plain": [
       "<Figure size 720x1440 with 1 Axes>"
      ]
     },
     "metadata": {
      "needs_background": "light"
     },
     "output_type": "display_data"
    }
   ],
   "source": [
    "#top 50 IMDb rated Tv shows\n",
    "plt.subplots(figsize=(10,20))\n",
    "sns.barplot(x=\"IMDb\", y=\"Title\" , data= data.sort_values(\"IMDb\",ascending=False).head(50))"
   ]
  },
  {
   "cell_type": "code",
   "execution_count": 431,
   "metadata": {},
   "outputs": [
    {
     "data": {
      "text/plain": [
       "<matplotlib.axes._subplots.AxesSubplot at 0x260c2e5c438>"
      ]
     },
     "execution_count": 431,
     "metadata": {},
     "output_type": "execute_result"
    },
    {
     "data": {
      "image/png": "[encoded data removed]",
      "text/plain": [
       "<Figure size 432x288 with 1 Axes>"
      ]
     },
     "metadata": {
      "needs_background": "light"
     },
     "output_type": "display_data"
    }
   ],
   "source": [
    "\n",
    "data.plot.scatter(x='IMDb', y='Year')"
   ]
  },
  {
   "cell_type": "code",
   "execution_count": 432,
   "metadata": {},
   "outputs": [
    {
     "data": {
      "image/png": "[encoded data removed]",
      "text/plain": [
       "<Figure size 432x288 with 1 Axes>"
      ]
     },
     "metadata": {},
     "output_type": "display_data"
    }
   ],
   "source": [
    "#quantity of shows on various platforms present in the dataset\n",
    "labels = 'Netflix' , 'Hulu', 'Prime Video', 'Disney+'\n",
    "sizes = [data['Netflix'].sum(),data['Hulu'].sum(),data['Prime Video'].sum(),data['Disney+'].sum()]\n",
    "explode = (0.1, 0.1, 0.5, 0.1 )\n",
    "\n",
    "fig1 , ax1 = plt.subplots()\n",
    "\n",
    "ax1.pie(sizes,\n",
    "        explode = explode,\n",
    "        labels = labels,\n",
    "        autopct = '%1.1f%%',\n",
    "        shadow = True,\n",
    "        startangle = 100)\n",
    "\n",
    "ax1.axis ('equal')\n",
    "plt.show()"
   ]
  },
  {
   "cell_type": "code",
   "execution_count": 433,
   "metadata": {},
   "outputs": [],
   "source": [
    "netflix_shows = data.loc[data['Netflix'] == 1]\n",
    "hulu_shows = data.loc[data['Hulu'] == 1]\n",
    "prime_video_shows = data.loc[data['Prime Video'] == 1]\n",
    "disney_shows = data.loc[data['Disney+'] == 1]"
   ]
  },
  {
   "cell_type": "code",
   "execution_count": 434,
   "metadata": {},
   "outputs": [],
   "source": [
    "#list of top shows on netflix\n",
    "netflix_top_shows = netflix_shows.loc[netflix_shows['IMDb']>8.0]\n",
    "hulu_top_shows = hulu_shows.loc[hulu_shows['IMDb']>8.0]\n",
    "prime_video_top_shows = prime_video_shows.loc[prime_video_shows['IMDb']>8.0]\n",
    "disney_top_shows = disney_shows.loc[disney_shows['IMDb']>8.0]"
   ]
  },
  {
   "cell_type": "code",
   "execution_count": 435,
   "metadata": {},
   "outputs": [
    {
     "data": {
      "text/plain": [
       "3213.2"
      ]
     },
     "execution_count": 435,
     "metadata": {},
     "output_type": "execute_result"
    }
   ],
   "source": [
    "netflix_top_shows['IMDb'].sum()"
   ]
  },
  {
   "cell_type": "code",
   "execution_count": 436,
   "metadata": {},
   "outputs": [],
   "source": [
    "#lets plot a bar graph of platforms with highest IMDb shows\n",
    "platform = ['Netflix', 'Hulu', 'Prime Video', 'Disney+']\n",
    "count = [netflix_top_shows['IMDb'].sum(),hulu_top_shows['IMDb'].sum(),prime_video_top_shows['IMDb'].sum(),disney_top_shows['IMDb'].sum()]"
   ]
  },
  {
   "cell_type": "code",
   "execution_count": 437,
   "metadata": {},
   "outputs": [
    {
     "data": {
      "image/png": "[encoded data removed]",
      "text/plain": [
       "<Figure size 432x288 with 1 Axes>"
      ]
     },
     "metadata": {
      "needs_background": "light"
     },
     "output_type": "display_data"
    }
   ],
   "source": [
    "fig = plt.figure()\n",
    "ax = fig.add_axes([1,1,1,1])\n",
    "ax.bar(platform,count)\n",
    "plt.show()"
   ]
  },
  {
   "cell_type": "code",
   "execution_count": 438,
   "metadata": {},
   "outputs": [
    {
     "data": {
      "image/png": "[encoded data removed]",
      "text/plain": [
       "<Figure size 1080x720 with 1 Axes>"
      ]
     },
     "metadata": {
      "needs_background": "light"
     },
     "output_type": "display_data"
    }
   ],
   "source": [
    "#Platform with most shows rated above 8+ (IMDB)\n",
    "plt.figure(figsize = (15, 10))\n",
    "sns.barplot(\n",
    "           x = platform,\n",
    "           y = count\n",
    ")\n",
    "plt.xlabel('Platform')\n",
    "plt.ylabel('Total number of showsrated above 8')\n",
    "plt.title('Platform with most shows rated above 8+ (IMDB)')\n",
    "plt.show()"
   ]
  },
  {
   "cell_type": "code",
   "execution_count": 439,
   "metadata": {},
   "outputs": [
    {
     "data": {
      "image/png": "[encoded data removed]",
      "text/plain": [
       "<Figure size 1080x720 with 1 Axes>"
      ]
     },
     "metadata": {
      "needs_background": "light"
     },
     "output_type": "display_data"
    }
   ],
   "source": [
    "#lets plot a bar graph of years with highest IMDb shows\n",
    "top1990_shows = data.loc[(data['IMDb'] >= 8.0) & (data['Year']<= 1990)]\n",
    "top2000_shows = data.loc[(data['IMDb']>=8.0) & (data['Year']>1990) & (data['Year']<=2000)]\n",
    "top2010_shows = data.loc[(data['IMDb']>=8.0) & (data['Year']>2000)&(data['Year']<=2010)]\n",
    "top2020_shows = data.loc[(data['IMDb']>=8.0) & (data['Year']>2010)&(data['Year']<=2020)]\n",
    "years = ['< 1990', '1990 - 2000', '2001-2010', '2011-2020']\n",
    "counts = [top1990_shows['IMDb'].sum(),top2000_shows['IMDb'].sum(),top2010_shows['IMDb'].sum(),top2010_shows['IMDb'].sum()]\n",
    "\n",
    "plt.figure(figsize = (15, 10))\n",
    "sns.barplot(\n",
    "           x = years,\n",
    "           y = counts\n",
    ")\n",
    "plt.xlabel('Years')\n",
    "plt.ylabel('Total number of showsrated above 8')\n",
    "plt.title('Years with most shows rated above 8+ (IMDB)')\n",
    "plt.show()"
   ]
  },
  {
   "cell_type": "code",
   "execution_count": null,
   "metadata": {},
   "outputs": [],
   "source": []
  },
  {
   "cell_type": "code",
   "execution_count": 440,
   "metadata": {},
   "outputs": [],
   "source": [
    "all_rated = data.loc[data['Age']=='all']\n",
    "_16_rated = data.loc[data['Age']=='16+']\n",
    "_18_rated = data.loc[data['Age']=='18+']"
   ]
  },
  {
   "cell_type": "code",
   "execution_count": 441,
   "metadata": {},
   "outputs": [
    {
     "name": "stdout",
     "output_type": "stream",
     "text": [
      "545\n",
      "1018\n",
      "750\n"
     ]
    }
   ],
   "source": [
    "print(len(all_rated))\n",
    "print(len(_16_rated))\n",
    "print(len(_18_rated))"
   ]
  },
  {
   "cell_type": "code",
   "execution_count": 442,
   "metadata": {},
   "outputs": [
    {
     "data": {
      "image/png": "[encoded data removed]",
      "text/plain": [
       "<Figure size 1080x720 with 1 Axes>"
      ]
     },
     "metadata": {
      "needs_background": "light"
     },
     "output_type": "display_data"
    }
   ],
   "source": [
    "age = ['Shows for all', '16+', '18+']\n",
    "counts = [len(all_rated),len(_16_rated),len(_18_rated)]\n",
    "\n",
    "plt.figure(figsize = (15, 10))\n",
    "sns.barplot(\n",
    "           x = age,\n",
    "           y = counts\n",
    ")\n",
    "plt.xlabel('Age')\n",
    "plt.ylabel('Count of Tv Shows under age restrcition')\n",
    "plt.title('Age restriction')\n",
    "plt.show()"
   ]
  },
  {
   "cell_type": "code",
   "execution_count": 443,
   "metadata": {},
   "outputs": [],
   "source": [
    "# movie with IMDb 8+ which are for all age groups\n",
    "all_rated_high_rate = all_rated.loc[all_rated['IMDb']>=8.0]\n",
    "rated_16_high_rate = _16_rated.loc[_16_rated['IMDb']>=8.0]\n",
    "rated_18_high_rate = _18_rated.loc[_18_rated['IMDb']>=8.0]"
   ]
  },
  {
   "cell_type": "code",
   "execution_count": 444,
   "metadata": {},
   "outputs": [
    {
     "data": {
      "text/plain": [
       "244"
      ]
     },
     "execution_count": 444,
     "metadata": {},
     "output_type": "execute_result"
    }
   ],
   "source": [
    "all_rated_high_rate['Title'].count()\n",
    "rated_16_high_rate['Title'].count()\n",
    "rated_18_high_rate['Title'].count()"
   ]
  },
  {
   "cell_type": "code",
   "execution_count": 445,
   "metadata": {},
   "outputs": [
    {
     "data": {
      "image/png": "[encoded data removed]",
      "text/plain": [
       "<Figure size 1080x720 with 1 Axes>"
      ]
     },
     "metadata": {
      "needs_background": "light"
     },
     "output_type": "display_data"
    }
   ],
   "source": [
    "#Top IMDb rated Shows analysed on basis of age group\n",
    "age = ['Shows for all', '16+', '18+']\n",
    "counts = [len(all_rated_high_rate),len(rated_16_high_rate),len(rated_18_high_rate)]\n",
    "\n",
    "plt.figure(figsize = (15, 10))\n",
    "sns.barplot(\n",
    "           x = age,\n",
    "           y = counts\n",
    ")\n",
    "plt.xlabel('Age Group')\n",
    "plt.ylabel('Count')\n",
    "plt.title('Top IMDb rated shows analysed on basis of age group')\n",
    "plt.show()"
   ]
  },
  {
   "cell_type": "code",
   "execution_count": 446,
   "metadata": {},
   "outputs": [],
   "source": [
    "#Must watch shows\n",
    "must_watch = data.loc[data['IMDb']>9.0]"
   ]
  },
  {
   "cell_type": "code",
   "execution_count": 447,
   "metadata": {},
   "outputs": [
    {
     "data": {
      "text/plain": [
       "0                                     Breaking Bad\n",
       "3                                         Sherlock\n",
       "9                       Avatar: The Last Airbender\n",
       "15                Fullmetal Alchemist: Brotherhood\n",
       "91                                      Our Planet\n",
       "97                                 The Vietnam War\n",
       "282                                Yeh Meri Family\n",
       "325                                        Ramayan\n",
       "1931                                Rick and Morty\n",
       "2236    Leah Remini: Scientology and the Aftermath\n",
       "2365                           The Joy of Painting\n",
       "3023                                       Destiny\n",
       "3177                                  Hungry Henry\n",
       "3566                                      The Wire\n",
       "3567                              Band of Brothers\n",
       "3568                                  The Sopranos\n",
       "3649                                   The Planets\n",
       "3701                                      Baseball\n",
       "3747                                  Malgudi Days\n",
       "3798                                       The Bay\n",
       "4029                       Harmony with A R Rahman\n",
       "4041                               Everyday Driver\n",
       "4128                                Green Paradise\n",
       "4257                            Single and Anxious\n",
       "5465                        The Imagineering Story\n",
       "Name: Title, dtype: object"
      ]
     },
     "execution_count": 447,
     "metadata": {},
     "output_type": "execute_result"
    }
   ],
   "source": [
    "must_watch['Title']"
   ]
  },
  {
   "cell_type": "code",
   "execution_count": 448,
   "metadata": {},
   "outputs": [
    {
     "data": {
      "text/plain": [
       "3023             Destiny\n",
       "0           Breaking Bad\n",
       "3747        Malgudi Days\n",
       "3177        Hungry Henry\n",
       "3567    Band of Brothers\n",
       "Name: Title, dtype: object"
      ]
     },
     "execution_count": 448,
     "metadata": {},
     "output_type": "execute_result"
    }
   ],
   "source": [
    "#Top 5 Must watch Shows\n",
    "a = data.sort_values(\"IMDb\",ascending=False).head(5)\n",
    "a['Title']"
   ]
  }
 ],
 "metadata": {
  "kernelspec": {
   "display_name": "Python 3",
   "language": "python",
   "name": "python3"
  },
  "language_info": {
   "codemirror_mode": {
    "name": "ipython",
    "version": 3
   },
   "file_extension": ".py",
   "mimetype": "text/x-python",
   "name": "python",
   "nbconvert_exporter": "python",
   "pygments_lexer": "ipython3",
   "version": "3.6.8"
  }
 },
 "nbformat": 4,
 "nbformat_minor": 4
}
